{
 "cells": [
  {
   "cell_type": "markdown",
   "metadata": {},
   "source": [
    "# Data cleaning"
   ]
  },
  {
   "cell_type": "markdown",
   "metadata": {},
   "source": [
    "### Loading data"
   ]
  },
  {
   "cell_type": "code",
   "execution_count": 1,
   "metadata": {},
   "outputs": [],
   "source": [
    "import pandas as pd\n",
    "import numpy as np\n",
    "import matplotlib.pyplot as plt\n",
    "\n",
    "#Import\n",
    "data = pd.read_csv('dataset_mood_smartphone.csv')\n",
    "\n",
    "#Convert time column to date time format\n",
    "data['time']= pd.to_datetime(data['time']) "
   ]
  },
  {
   "cell_type": "markdown",
   "metadata": {},
   "source": [
    "### Changing to multi index with time and ID"
   ]
  },
  {
   "cell_type": "code",
   "execution_count": 2,
   "metadata": {},
   "outputs": [],
   "source": [
    "data = data.set_index(['id', 'time'])"
   ]
  },
  {
   "cell_type": "markdown",
   "metadata": {},
   "source": [
    "We want to reformat the data such that we have a number of observations for each patient, with each observation consisting of some time period e.g one week. Each observation will have a measurement for each attribute (e.g., Avg time spent on weather app over period) with the dependent variable as the average mood over the period. "
   ]
  },
  {
   "cell_type": "code",
   "execution_count": 3,
   "metadata": {},
   "outputs": [],
   "source": [
    "#reshaping the dataframe so that each column is a feature, indexed first by patient then time\n",
    "data2 = pd.pivot_table(data, index=['id', 'time'], columns='variable', values='value')"
   ]
  },
  {
   "cell_type": "markdown",
   "metadata": {},
   "source": [
    "### Aggregating the data into time windows "
   ]
  },
  {
   "cell_type": "markdown",
   "metadata": {},
   "source": [
    "For all of the apps, sms and calls we take the sum over the windows, since they are either times spent or number of calls etc. For arousal, mood and valence we take the mean."
   ]
  },
  {
   "cell_type": "code",
   "execution_count": null,
   "metadata": {},
   "outputs": [],
   "source": [
    "prev_index = 0\n",
    "for row in data2:\n",
    "    \n",
    "    if data2.iloc[[0]]['mood'] > 0:\n",
    "\n"
   ]
  },
  {
   "cell_type": "code",
   "execution_count": 4,
   "metadata": {},
   "outputs": [],
   "source": [
    "#This is currently grouping observations into 2 day windows, can make a decision on this later\n",
    "\n",
    "data2 = data2.astype(float)\n",
    "data2 = data2.groupby([pd.Grouper(level='id'), pd.Grouper(freq='2D', level='time') \n",
    "                             ]).agg({'activity': 'sum', 'appCat.builtin':'sum',\n",
    "                                                           'appCat.communication':'sum', 'appCat.entertainment':'sum',\n",
    "                                                           'appCat.finance':'sum', 'appCat.game':'sum', 'appCat.office':'sum',\n",
    "                                                           'appCat.other':'sum', 'appCat.social':'sum', 'appCat.travel':'sum',\n",
    "                                                           'appCat.unknown':'sum', 'appCat.utilities':'sum', 'appCat.weather':'sum',\n",
    "                                                           'call':'sum', 'screen':'sum', 'sms':'sum','circumplex.valence':'mean',\n",
    "                                                           'circumplex.arousal':'mean', 'mood':'mean'})"
   ]
  },
  {
   "cell_type": "markdown",
   "metadata": {},
   "source": [
    "### Removing observations/days without mood measurements"
   ]
  },
  {
   "cell_type": "code",
   "execution_count": 5,
   "metadata": {},
   "outputs": [],
   "source": [
    "data2 = data2.dropna(subset=['mood'])"
   ]
  },
  {
   "cell_type": "markdown",
   "metadata": {},
   "source": [
    "### Dropping columns with little data"
   ]
  },
  {
   "cell_type": "code",
   "execution_count": 6,
   "metadata": {},
   "outputs": [],
   "source": [
    "data2 = data2.drop(columns=['appCat.finance','appCat.game', 'appCat.unknown', 'appCat.weather'])"
   ]
  },
  {
   "cell_type": "markdown",
   "metadata": {},
   "source": [
    "### Remove outliers"
   ]
  },
  {
   "cell_type": "markdown",
   "metadata": {},
   "source": [
    "It is clear from the plots that there are some outliers that are nonsensical. No values should be negative apart from those for arousal or valence, which have a minimum value of -2. Therefore a good starting point is to remove any values which are less than that for the whole dataframe."
   ]
  },
  {
   "cell_type": "code",
   "execution_count": 7,
   "metadata": {},
   "outputs": [],
   "source": [
    "from scipy import stats\n",
    "\n",
    "data2 = data2.astype(float)\n",
    "data2 = data2[(np.abs(stats.zscore(data2)) < 4).all(axis=1)]"
   ]
  },
  {
   "cell_type": "code",
   "execution_count": null,
   "metadata": {},
   "outputs": [],
   "source": []
  },
  {
   "cell_type": "markdown",
   "metadata": {},
   "source": [
    "### Instead aggregating data into windows up to each mood measurement "
   ]
  },
  {
   "cell_type": "code",
   "execution_count": null,
   "metadata": {},
   "outputs": [],
   "source": [
    "test = data2.groupby(['id', 'time', 'mood'])\n",
    "\n",
    "test.head()"
   ]
  },
  {
   "cell_type": "code",
   "execution_count": null,
   "metadata": {},
   "outputs": [],
   "source": [
    "#This will give us more observations that grouping by day\n",
    "\n",
    "data2 = data2.groupby([pd.Grouper(freq='1D', level='time'), \n",
    "                             pd.Grouper(level='id')]).agg({'activity': 'sum', 'appCat.builtin':'sum',\n",
    "                                                           'appCat.communication':'sum', 'appCat.entertainment':'sum',\n",
    "                                                           'appCat.finance':'sum', 'appCat.game':'sum', 'appCat.office':'sum',\n",
    "                                                           'appCat.other':'sum', 'appCat.social':'sum', 'appCat.travel':'sum',\n",
    "                                                           'appCat.unknown':'sum', 'appCat.utilities':'sum', 'appCat.weather':'sum',\n",
    "                                                           'call':'sum', 'screen':'sum', 'sms':'sum','circumplex.valence':'mean',\n",
    "                                                           'circumplex.arousal':'mean', 'mood':'mean'})"
   ]
  },
  {
   "cell_type": "markdown",
   "metadata": {},
   "source": [
    "# Exploration"
   ]
  },
  {
   "cell_type": "markdown",
   "metadata": {},
   "source": [
    "### Mood distribution "
   ]
  },
  {
   "cell_type": "code",
   "execution_count": null,
   "metadata": {},
   "outputs": [],
   "source": [
    "#We can now look at the distributions for each variable\n",
    "data2.hist('mood')"
   ]
  },
  {
   "cell_type": "markdown",
   "metadata": {},
   "source": [
    "### Observation counts for each day"
   ]
  },
  {
   "cell_type": "code",
   "execution_count": null,
   "metadata": {},
   "outputs": [],
   "source": [
    "#This tells us the number of individuals for which we have mood data for each day in the dataset\n",
    "data2.groupby(level=0)['mood'].count()"
   ]
  },
  {
   "cell_type": "markdown",
   "metadata": {},
   "source": [
    "It is clear that there is a narrow time period over which we have data for all patients simulatneously. We cannot do much with days for which we little or no mood data, therefore we could consider discarding data in the early and late periods."
   ]
  },
  {
   "cell_type": "markdown",
   "metadata": {},
   "source": [
    "### Observation counts for each patient "
   ]
  },
  {
   "cell_type": "code",
   "execution_count": null,
   "metadata": {},
   "outputs": [],
   "source": [
    "#This tells us the number of mood observations for each individual\n",
    "data2.groupby(level=1)['mood'].count()"
   ]
  },
  {
   "cell_type": "markdown",
   "metadata": {},
   "source": [
    "### Counts for each variable, for each patient"
   ]
  },
  {
   "cell_type": "code",
   "execution_count": null,
   "metadata": {
    "scrolled": true
   },
   "outputs": [],
   "source": [
    "#Number of available instances for each variable, for each patient\n",
    "data2.groupby(level=1).count()"
   ]
  },
  {
   "cell_type": "markdown",
   "metadata": {},
   "source": [
    "There are a number of attributes for which we have few or no measurements for many of the patients, namely: Finance, Games, office, unknown, and weather. In some of these cases they may be entirely useless, especially if they happen to be highly correlated with other variables. We could consider taking binary indicators for some of these, with the intuition that if they check finance or office apps they have assets or a job, if they check the weather app they go outside, if they play mobile games they procrastinate etc"
   ]
  },
  {
   "cell_type": "markdown",
   "metadata": {},
   "source": [
    "### Pairwise plots"
   ]
  },
  {
   "cell_type": "markdown",
   "metadata": {},
   "source": [
    "Looking at the number of non-zero observations in each column after the above transformations"
   ]
  },
  {
   "cell_type": "code",
   "execution_count": null,
   "metadata": {},
   "outputs": [],
   "source": [
    "import seaborn as sns\n",
    "\n",
    "sns.pairplot(data2.loc[:,data2.dtypes == 'float64'])"
   ]
  },
  {
   "cell_type": "markdown",
   "metadata": {},
   "source": [
    "### Correlation between predictors"
   ]
  },
  {
   "cell_type": "code",
   "execution_count": null,
   "metadata": {},
   "outputs": [],
   "source": [
    "corr_matrix = data2.corr()\n",
    "corr_matrix['mood']"
   ]
  },
  {
   "cell_type": "markdown",
   "metadata": {},
   "source": [
    "# Feature engineering"
   ]
  },
  {
   "cell_type": "markdown",
   "metadata": {},
   "source": [
    "Here we need to create new variables to improve our predictive power\n",
    "\n",
    "Ideas so far:\n",
    "- Days of week, month of recording\n",
    "- Mood swing in last week\n",
    "- Mornging/evening\n",
    "- Binary indicators for some ommitted apps\n",
    "\n",
    "In the paper on this dataset they say that basically none of the apps have any predictive power - once we show this \n",
    "#ourselves we could simplify the model down immensely using principle components/ indicators for \n",
    "\"uses phone a lot-or not\" "
   ]
  },
  {
   "cell_type": "markdown",
   "metadata": {},
   "source": [
    "### Day of week indicators"
   ]
  },
  {
   "cell_type": "code",
   "execution_count": 8,
   "metadata": {},
   "outputs": [
    {
     "data": {
      "text/html": [
       "<div>\n",
       "<style scoped>\n",
       "    .dataframe tbody tr th:only-of-type {\n",
       "        vertical-align: middle;\n",
       "    }\n",
       "\n",
       "    .dataframe tbody tr th {\n",
       "        vertical-align: top;\n",
       "    }\n",
       "\n",
       "    .dataframe thead th {\n",
       "        text-align: right;\n",
       "    }\n",
       "</style>\n",
       "<table border=\"1\" class=\"dataframe\">\n",
       "  <thead>\n",
       "    <tr style=\"text-align: right;\">\n",
       "      <th></th>\n",
       "      <th></th>\n",
       "      <th>activity</th>\n",
       "      <th>appCat.builtin</th>\n",
       "      <th>appCat.communication</th>\n",
       "      <th>appCat.entertainment</th>\n",
       "      <th>appCat.office</th>\n",
       "      <th>appCat.other</th>\n",
       "      <th>appCat.social</th>\n",
       "      <th>appCat.travel</th>\n",
       "      <th>appCat.utilities</th>\n",
       "      <th>call</th>\n",
       "      <th>...</th>\n",
       "      <th>circumplex.valence</th>\n",
       "      <th>circumplex.arousal</th>\n",
       "      <th>mood</th>\n",
       "      <th>Monday</th>\n",
       "      <th>Tuesday</th>\n",
       "      <th>Wednesday</th>\n",
       "      <th>Thursday</th>\n",
       "      <th>Friday</th>\n",
       "      <th>Saturday</th>\n",
       "      <th>Sunday</th>\n",
       "    </tr>\n",
       "    <tr>\n",
       "      <th>id</th>\n",
       "      <th>time</th>\n",
       "      <th></th>\n",
       "      <th></th>\n",
       "      <th></th>\n",
       "      <th></th>\n",
       "      <th></th>\n",
       "      <th></th>\n",
       "      <th></th>\n",
       "      <th></th>\n",
       "      <th></th>\n",
       "      <th></th>\n",
       "      <th></th>\n",
       "      <th></th>\n",
       "      <th></th>\n",
       "      <th></th>\n",
       "      <th></th>\n",
       "      <th></th>\n",
       "      <th></th>\n",
       "      <th></th>\n",
       "      <th></th>\n",
       "      <th></th>\n",
       "      <th></th>\n",
       "    </tr>\n",
       "  </thead>\n",
       "  <tbody>\n",
       "    <tr>\n",
       "      <th rowspan=\"5\" valign=\"top\">AS14.01</th>\n",
       "      <th>2014-02-25</th>\n",
       "      <td>0.000000</td>\n",
       "      <td>0.000</td>\n",
       "      <td>0.000</td>\n",
       "      <td>0.000</td>\n",
       "      <td>0.000</td>\n",
       "      <td>0.000</td>\n",
       "      <td>0.000</td>\n",
       "      <td>0.000</td>\n",
       "      <td>0.000</td>\n",
       "      <td>4.0</td>\n",
       "      <td>...</td>\n",
       "      <td>0.750000</td>\n",
       "      <td>-0.250000</td>\n",
       "      <td>6.250000</td>\n",
       "      <td>0</td>\n",
       "      <td>1</td>\n",
       "      <td>0</td>\n",
       "      <td>0</td>\n",
       "      <td>0</td>\n",
       "      <td>0</td>\n",
       "      <td>0</td>\n",
       "    </tr>\n",
       "    <tr>\n",
       "      <th>2014-02-27</th>\n",
       "      <td>0.000000</td>\n",
       "      <td>0.000</td>\n",
       "      <td>0.000</td>\n",
       "      <td>0.000</td>\n",
       "      <td>0.000</td>\n",
       "      <td>0.000</td>\n",
       "      <td>0.000</td>\n",
       "      <td>0.000</td>\n",
       "      <td>0.000</td>\n",
       "      <td>4.0</td>\n",
       "      <td>...</td>\n",
       "      <td>0.333333</td>\n",
       "      <td>0.000000</td>\n",
       "      <td>6.333333</td>\n",
       "      <td>0</td>\n",
       "      <td>0</td>\n",
       "      <td>0</td>\n",
       "      <td>1</td>\n",
       "      <td>0</td>\n",
       "      <td>0</td>\n",
       "      <td>0</td>\n",
       "    </tr>\n",
       "    <tr>\n",
       "      <th>2014-03-21</th>\n",
       "      <td>6.873236</td>\n",
       "      <td>3870.647</td>\n",
       "      <td>11243.808</td>\n",
       "      <td>1100.780</td>\n",
       "      <td>172.206</td>\n",
       "      <td>337.894</td>\n",
       "      <td>4948.132</td>\n",
       "      <td>952.750</td>\n",
       "      <td>716.375</td>\n",
       "      <td>9.0</td>\n",
       "      <td>...</td>\n",
       "      <td>0.333333</td>\n",
       "      <td>0.400000</td>\n",
       "      <td>6.300000</td>\n",
       "      <td>0</td>\n",
       "      <td>0</td>\n",
       "      <td>0</td>\n",
       "      <td>0</td>\n",
       "      <td>1</td>\n",
       "      <td>0</td>\n",
       "      <td>0</td>\n",
       "    </tr>\n",
       "    <tr>\n",
       "      <th>2014-03-23</th>\n",
       "      <td>4.036182</td>\n",
       "      <td>2153.202</td>\n",
       "      <td>14507.948</td>\n",
       "      <td>1071.317</td>\n",
       "      <td>3.010</td>\n",
       "      <td>139.381</td>\n",
       "      <td>4124.465</td>\n",
       "      <td>419.805</td>\n",
       "      <td>208.818</td>\n",
       "      <td>10.0</td>\n",
       "      <td>...</td>\n",
       "      <td>0.400000</td>\n",
       "      <td>0.500000</td>\n",
       "      <td>6.400000</td>\n",
       "      <td>0</td>\n",
       "      <td>0</td>\n",
       "      <td>0</td>\n",
       "      <td>0</td>\n",
       "      <td>0</td>\n",
       "      <td>0</td>\n",
       "      <td>1</td>\n",
       "    </tr>\n",
       "    <tr>\n",
       "      <th>2014-03-25</th>\n",
       "      <td>4.792378</td>\n",
       "      <td>2200.265</td>\n",
       "      <td>19265.504</td>\n",
       "      <td>978.685</td>\n",
       "      <td>0.000</td>\n",
       "      <td>276.317</td>\n",
       "      <td>6511.530</td>\n",
       "      <td>0.000</td>\n",
       "      <td>256.258</td>\n",
       "      <td>0.0</td>\n",
       "      <td>...</td>\n",
       "      <td>0.555556</td>\n",
       "      <td>0.111111</td>\n",
       "      <td>6.666667</td>\n",
       "      <td>0</td>\n",
       "      <td>1</td>\n",
       "      <td>0</td>\n",
       "      <td>0</td>\n",
       "      <td>0</td>\n",
       "      <td>0</td>\n",
       "      <td>0</td>\n",
       "    </tr>\n",
       "  </tbody>\n",
       "</table>\n",
       "<p>5 rows × 22 columns</p>\n",
       "</div>"
      ],
      "text/plain": [
       "                    activity  appCat.builtin  appCat.communication  \\\n",
       "id      time                                                         \n",
       "AS14.01 2014-02-25  0.000000           0.000                 0.000   \n",
       "        2014-02-27  0.000000           0.000                 0.000   \n",
       "        2014-03-21  6.873236        3870.647             11243.808   \n",
       "        2014-03-23  4.036182        2153.202             14507.948   \n",
       "        2014-03-25  4.792378        2200.265             19265.504   \n",
       "\n",
       "                    appCat.entertainment  appCat.office  appCat.other  \\\n",
       "id      time                                                            \n",
       "AS14.01 2014-02-25                 0.000          0.000         0.000   \n",
       "        2014-02-27                 0.000          0.000         0.000   \n",
       "        2014-03-21              1100.780        172.206       337.894   \n",
       "        2014-03-23              1071.317          3.010       139.381   \n",
       "        2014-03-25               978.685          0.000       276.317   \n",
       "\n",
       "                    appCat.social  appCat.travel  appCat.utilities  call  ...  \\\n",
       "id      time                                                              ...   \n",
       "AS14.01 2014-02-25          0.000          0.000             0.000   4.0  ...   \n",
       "        2014-02-27          0.000          0.000             0.000   4.0  ...   \n",
       "        2014-03-21       4948.132        952.750           716.375   9.0  ...   \n",
       "        2014-03-23       4124.465        419.805           208.818  10.0  ...   \n",
       "        2014-03-25       6511.530          0.000           256.258   0.0  ...   \n",
       "\n",
       "                    circumplex.valence  circumplex.arousal      mood  Monday  \\\n",
       "id      time                                                                   \n",
       "AS14.01 2014-02-25            0.750000           -0.250000  6.250000       0   \n",
       "        2014-02-27            0.333333            0.000000  6.333333       0   \n",
       "        2014-03-21            0.333333            0.400000  6.300000       0   \n",
       "        2014-03-23            0.400000            0.500000  6.400000       0   \n",
       "        2014-03-25            0.555556            0.111111  6.666667       0   \n",
       "\n",
       "                    Tuesday  Wednesday  Thursday  Friday  Saturday  Sunday  \n",
       "id      time                                                                \n",
       "AS14.01 2014-02-25        1          0         0       0         0       0  \n",
       "        2014-02-27        0          0         1       0         0       0  \n",
       "        2014-03-21        0          0         0       1         0       0  \n",
       "        2014-03-23        0          0         0       0         0       1  \n",
       "        2014-03-25        1          0         0       0         0       0  \n",
       "\n",
       "[5 rows x 22 columns]"
      ]
     },
     "execution_count": 8,
     "metadata": {},
     "output_type": "execute_result"
    }
   ],
   "source": [
    "names = ['Monday', 'Tuesday', 'Wednesday', 'Thursday', 'Friday', 'Saturday', 'Sunday']\n",
    "\n",
    "for i, x in enumerate(names):\n",
    "    data2[x] = (data2.index.get_level_values(1).weekday == i).astype(int)\n",
    "    \n",
    "data2.head()\n"
   ]
  },
  {
   "cell_type": "markdown",
   "metadata": {},
   "source": [
    "### Month indicators"
   ]
  },
  {
   "cell_type": "code",
   "execution_count": 9,
   "metadata": {},
   "outputs": [
    {
     "data": {
      "text/html": [
       "<div>\n",
       "<style scoped>\n",
       "    .dataframe tbody tr th:only-of-type {\n",
       "        vertical-align: middle;\n",
       "    }\n",
       "\n",
       "    .dataframe tbody tr th {\n",
       "        vertical-align: top;\n",
       "    }\n",
       "\n",
       "    .dataframe thead th {\n",
       "        text-align: right;\n",
       "    }\n",
       "</style>\n",
       "<table border=\"1\" class=\"dataframe\">\n",
       "  <thead>\n",
       "    <tr style=\"text-align: right;\">\n",
       "      <th></th>\n",
       "      <th></th>\n",
       "      <th>activity</th>\n",
       "      <th>appCat.builtin</th>\n",
       "      <th>appCat.communication</th>\n",
       "      <th>appCat.entertainment</th>\n",
       "      <th>appCat.office</th>\n",
       "      <th>appCat.other</th>\n",
       "      <th>appCat.social</th>\n",
       "      <th>appCat.travel</th>\n",
       "      <th>appCat.utilities</th>\n",
       "      <th>call</th>\n",
       "      <th>...</th>\n",
       "      <th>March</th>\n",
       "      <th>April</th>\n",
       "      <th>May</th>\n",
       "      <th>June</th>\n",
       "      <th>July</th>\n",
       "      <th>August</th>\n",
       "      <th>September</th>\n",
       "      <th>October</th>\n",
       "      <th>November</th>\n",
       "      <th>December</th>\n",
       "    </tr>\n",
       "    <tr>\n",
       "      <th>id</th>\n",
       "      <th>time</th>\n",
       "      <th></th>\n",
       "      <th></th>\n",
       "      <th></th>\n",
       "      <th></th>\n",
       "      <th></th>\n",
       "      <th></th>\n",
       "      <th></th>\n",
       "      <th></th>\n",
       "      <th></th>\n",
       "      <th></th>\n",
       "      <th></th>\n",
       "      <th></th>\n",
       "      <th></th>\n",
       "      <th></th>\n",
       "      <th></th>\n",
       "      <th></th>\n",
       "      <th></th>\n",
       "      <th></th>\n",
       "      <th></th>\n",
       "      <th></th>\n",
       "      <th></th>\n",
       "    </tr>\n",
       "  </thead>\n",
       "  <tbody>\n",
       "    <tr>\n",
       "      <th rowspan=\"5\" valign=\"top\">AS14.01</th>\n",
       "      <th>2014-02-25</th>\n",
       "      <td>0.000000</td>\n",
       "      <td>0.000</td>\n",
       "      <td>0.000</td>\n",
       "      <td>0.000</td>\n",
       "      <td>0.000</td>\n",
       "      <td>0.000</td>\n",
       "      <td>0.000</td>\n",
       "      <td>0.000</td>\n",
       "      <td>0.000</td>\n",
       "      <td>4.0</td>\n",
       "      <td>...</td>\n",
       "      <td>0</td>\n",
       "      <td>1</td>\n",
       "      <td>0</td>\n",
       "      <td>0</td>\n",
       "      <td>0</td>\n",
       "      <td>0</td>\n",
       "      <td>0</td>\n",
       "      <td>0</td>\n",
       "      <td>0</td>\n",
       "      <td>0</td>\n",
       "    </tr>\n",
       "    <tr>\n",
       "      <th>2014-02-27</th>\n",
       "      <td>0.000000</td>\n",
       "      <td>0.000</td>\n",
       "      <td>0.000</td>\n",
       "      <td>0.000</td>\n",
       "      <td>0.000</td>\n",
       "      <td>0.000</td>\n",
       "      <td>0.000</td>\n",
       "      <td>0.000</td>\n",
       "      <td>0.000</td>\n",
       "      <td>4.0</td>\n",
       "      <td>...</td>\n",
       "      <td>0</td>\n",
       "      <td>1</td>\n",
       "      <td>0</td>\n",
       "      <td>0</td>\n",
       "      <td>0</td>\n",
       "      <td>0</td>\n",
       "      <td>0</td>\n",
       "      <td>0</td>\n",
       "      <td>0</td>\n",
       "      <td>0</td>\n",
       "    </tr>\n",
       "    <tr>\n",
       "      <th>2014-03-21</th>\n",
       "      <td>6.873236</td>\n",
       "      <td>3870.647</td>\n",
       "      <td>11243.808</td>\n",
       "      <td>1100.780</td>\n",
       "      <td>172.206</td>\n",
       "      <td>337.894</td>\n",
       "      <td>4948.132</td>\n",
       "      <td>952.750</td>\n",
       "      <td>716.375</td>\n",
       "      <td>9.0</td>\n",
       "      <td>...</td>\n",
       "      <td>0</td>\n",
       "      <td>0</td>\n",
       "      <td>1</td>\n",
       "      <td>0</td>\n",
       "      <td>0</td>\n",
       "      <td>0</td>\n",
       "      <td>0</td>\n",
       "      <td>0</td>\n",
       "      <td>0</td>\n",
       "      <td>0</td>\n",
       "    </tr>\n",
       "    <tr>\n",
       "      <th>2014-03-23</th>\n",
       "      <td>4.036182</td>\n",
       "      <td>2153.202</td>\n",
       "      <td>14507.948</td>\n",
       "      <td>1071.317</td>\n",
       "      <td>3.010</td>\n",
       "      <td>139.381</td>\n",
       "      <td>4124.465</td>\n",
       "      <td>419.805</td>\n",
       "      <td>208.818</td>\n",
       "      <td>10.0</td>\n",
       "      <td>...</td>\n",
       "      <td>0</td>\n",
       "      <td>0</td>\n",
       "      <td>1</td>\n",
       "      <td>0</td>\n",
       "      <td>0</td>\n",
       "      <td>0</td>\n",
       "      <td>0</td>\n",
       "      <td>0</td>\n",
       "      <td>0</td>\n",
       "      <td>0</td>\n",
       "    </tr>\n",
       "    <tr>\n",
       "      <th>2014-03-25</th>\n",
       "      <td>4.792378</td>\n",
       "      <td>2200.265</td>\n",
       "      <td>19265.504</td>\n",
       "      <td>978.685</td>\n",
       "      <td>0.000</td>\n",
       "      <td>276.317</td>\n",
       "      <td>6511.530</td>\n",
       "      <td>0.000</td>\n",
       "      <td>256.258</td>\n",
       "      <td>0.0</td>\n",
       "      <td>...</td>\n",
       "      <td>0</td>\n",
       "      <td>0</td>\n",
       "      <td>1</td>\n",
       "      <td>0</td>\n",
       "      <td>0</td>\n",
       "      <td>0</td>\n",
       "      <td>0</td>\n",
       "      <td>0</td>\n",
       "      <td>0</td>\n",
       "      <td>0</td>\n",
       "    </tr>\n",
       "  </tbody>\n",
       "</table>\n",
       "<p>5 rows × 34 columns</p>\n",
       "</div>"
      ],
      "text/plain": [
       "                    activity  appCat.builtin  appCat.communication  \\\n",
       "id      time                                                         \n",
       "AS14.01 2014-02-25  0.000000           0.000                 0.000   \n",
       "        2014-02-27  0.000000           0.000                 0.000   \n",
       "        2014-03-21  6.873236        3870.647             11243.808   \n",
       "        2014-03-23  4.036182        2153.202             14507.948   \n",
       "        2014-03-25  4.792378        2200.265             19265.504   \n",
       "\n",
       "                    appCat.entertainment  appCat.office  appCat.other  \\\n",
       "id      time                                                            \n",
       "AS14.01 2014-02-25                 0.000          0.000         0.000   \n",
       "        2014-02-27                 0.000          0.000         0.000   \n",
       "        2014-03-21              1100.780        172.206       337.894   \n",
       "        2014-03-23              1071.317          3.010       139.381   \n",
       "        2014-03-25               978.685          0.000       276.317   \n",
       "\n",
       "                    appCat.social  appCat.travel  appCat.utilities  call  ...  \\\n",
       "id      time                                                              ...   \n",
       "AS14.01 2014-02-25          0.000          0.000             0.000   4.0  ...   \n",
       "        2014-02-27          0.000          0.000             0.000   4.0  ...   \n",
       "        2014-03-21       4948.132        952.750           716.375   9.0  ...   \n",
       "        2014-03-23       4124.465        419.805           208.818  10.0  ...   \n",
       "        2014-03-25       6511.530          0.000           256.258   0.0  ...   \n",
       "\n",
       "                    March  April  May  June  July  August  September  October  \\\n",
       "id      time                                                                    \n",
       "AS14.01 2014-02-25      0      1    0     0     0       0          0        0   \n",
       "        2014-02-27      0      1    0     0     0       0          0        0   \n",
       "        2014-03-21      0      0    1     0     0       0          0        0   \n",
       "        2014-03-23      0      0    1     0     0       0          0        0   \n",
       "        2014-03-25      0      0    1     0     0       0          0        0   \n",
       "\n",
       "                    November  December  \n",
       "id      time                            \n",
       "AS14.01 2014-02-25         0         0  \n",
       "        2014-02-27         0         0  \n",
       "        2014-03-21         0         0  \n",
       "        2014-03-23         0         0  \n",
       "        2014-03-25         0         0  \n",
       "\n",
       "[5 rows x 34 columns]"
      ]
     },
     "execution_count": 9,
     "metadata": {},
     "output_type": "execute_result"
    }
   ],
   "source": [
    "names = ['January', 'February', 'March', 'April', 'May', 'June', 'July', 'August', 'September', 'October', 'November', 'December']\n",
    "\n",
    "for i, x in enumerate(names):\n",
    "    data2[x] = (data2.index.get_level_values(1).month == i-1).astype(int)\n",
    "    \n",
    "data2.head()"
   ]
  },
  {
   "cell_type": "markdown",
   "metadata": {},
   "source": [
    "### Mood swing indicator"
   ]
  },
  {
   "cell_type": "code",
   "execution_count": null,
   "metadata": {},
   "outputs": [],
   "source": []
  },
  {
   "cell_type": "markdown",
   "metadata": {},
   "source": [
    "# OLS as first test of feature importance"
   ]
  },
  {
   "cell_type": "code",
   "execution_count": null,
   "metadata": {},
   "outputs": [],
   "source": [
    "olsdata = data2.groupby([pd.Grouper(freq='6M', level='time'), \n",
    "                             pd.Grouper(level='id')]).agg({'activity': 'sum', 'appCat.builtin':'sum',\n",
    "                                                           'appCat.communication':'sum', 'appCat.entertainment':'sum',\n",
    "                                                           'appCat.finance':'sum', 'appCat.game':'sum', 'appCat.office':'sum',\n",
    "                                                           'appCat.other':'sum', 'appCat.social':'sum', 'appCat.travel':'sum',\n",
    "                                                           'appCat.unknown':'sum', 'appCat.utilities':'sum', 'appCat.weather':'sum',\n",
    "                                                           'call':'sum', 'screen':'sum', 'sms':'sum','circumplex.valence':'mean',\n",
    "                                                           'circumplex.arousal':'mean', 'mood':'mean'})\n",
    "olsdata.head()"
   ]
  },
  {
   "cell_type": "code",
   "execution_count": null,
   "metadata": {},
   "outputs": [],
   "source": []
  },
  {
   "cell_type": "markdown",
   "metadata": {},
   "source": [
    "# Principle component Analysis"
   ]
  },
  {
   "cell_type": "markdown",
   "metadata": {},
   "source": [
    "It's very probable that many of the apps serve similar purposes for the user and therefore may have a similar effect - a PCA could possibly decompose these features into a smaller subset representing e.g. A need for socializing (Messneger apps), boredom (News, finance)"
   ]
  },
  {
   "cell_type": "code",
   "execution_count": null,
   "metadata": {},
   "outputs": [],
   "source": [
    "from sklearn.preprocessing import StandardScaler\n",
    "\n",
    "#Before we can run PCA we need to standarize all of the features\n",
    "\n",
    "features = ['activity', 'appCat.builtin', 'appCat.communication', 'appCat.entertainment', 'appCat.finance', 'appCat.game', \n",
    "            'appCat.office', 'appCat.other', 'appCat.social', 'appCat.travel', 'appCat.unknown', 'appCat.utilities', \n",
    "            'appCat.weather', 'call', 'screen', 'sms', 'circumplex.valence', 'circumplex.arousal']\n",
    "x = data2.loc[:, features].values\n",
    "x = StandardScaler().fit_transform(x)\n",
    "\n",
    "y = data2.loc[:,['mood']].values"
   ]
  },
  {
   "cell_type": "code",
   "execution_count": null,
   "metadata": {},
   "outputs": [],
   "source": [
    "from sklearn.decomposition import PCA\n",
    "\n",
    "pca = PCA(n_components=3)\n",
    "principalComponents = pca.fit_transform(x)\n",
    "principalDf = pd.DataFrame(data = principalComponents\n",
    "             , columns = ['principal component 1', 'principal component 2', 'principal component 3'])\n",
    "\n",
    "principalDf.head()"
   ]
  },
  {
   "cell_type": "code",
   "execution_count": null,
   "metadata": {},
   "outputs": [],
   "source": [
    "finalDf = pd.concat([principalDf, data2[['mood']]], axis = 1)"
   ]
  },
  {
   "cell_type": "markdown",
   "metadata": {},
   "source": [
    "# Mean model"
   ]
  },
  {
   "cell_type": "code",
   "execution_count": null,
   "metadata": {},
   "outputs": [],
   "source": []
  },
  {
   "cell_type": "markdown",
   "metadata": {},
   "source": [
    "# Linear regression for aggregated data"
   ]
  },
  {
   "cell_type": "code",
   "execution_count": null,
   "metadata": {},
   "outputs": [],
   "source": []
  },
  {
   "cell_type": "markdown",
   "metadata": {},
   "source": [
    "# Decision Tree/Random forrest"
   ]
  },
  {
   "cell_type": "code",
   "execution_count": null,
   "metadata": {},
   "outputs": [],
   "source": []
  },
  {
   "cell_type": "markdown",
   "metadata": {},
   "source": [
    "# Individual models (ARIMA?)"
   ]
  },
  {
   "cell_type": "code",
   "execution_count": null,
   "metadata": {},
   "outputs": [],
   "source": []
  }
 ],
 "metadata": {
  "kernelspec": {
   "display_name": "Python 3",
   "language": "python",
   "name": "python3"
  },
  "language_info": {
   "codemirror_mode": {
    "name": "ipython",
    "version": 3
   },
   "file_extension": ".py",
   "mimetype": "text/x-python",
   "name": "python",
   "nbconvert_exporter": "python",
   "pygments_lexer": "ipython3",
   "version": "3.7.1"
  }
 },
 "nbformat": 4,
 "nbformat_minor": 2
}
